{
 "cells": [
  {
   "cell_type": "code",
   "execution_count": 18,
   "metadata": {
    "ExecuteTime": {
     "end_time": "2019-06-01T06:28:56.864235Z",
     "start_time": "2019-06-01T06:28:56.858197Z"
    }
   },
   "outputs": [],
   "source": [
    "import pandas as pd\n",
    "import matplotlib.pyplot as plt\n",
    "from pandas import datetime as dte \n",
    "from sklearn.linear_model import LinearRegression\n",
    "import numpy as np"
   ]
  },
  {
   "cell_type": "code",
   "execution_count": 133,
   "metadata": {
    "ExecuteTime": {
     "end_time": "2019-06-01T08:32:50.954368Z",
     "start_time": "2019-06-01T08:32:50.892392Z"
    }
   },
   "outputs": [
    {
     "data": {
      "text/html": [
       "<div>\n",
       "<style scoped>\n",
       "    .dataframe tbody tr th:only-of-type {\n",
       "        vertical-align: middle;\n",
       "    }\n",
       "\n",
       "    .dataframe tbody tr th {\n",
       "        vertical-align: top;\n",
       "    }\n",
       "\n",
       "    .dataframe thead th {\n",
       "        text-align: right;\n",
       "    }\n",
       "</style>\n",
       "<table border=\"1\" class=\"dataframe\">\n",
       "  <thead>\n",
       "    <tr style=\"text-align: right;\">\n",
       "      <th></th>\n",
       "      <th>Open</th>\n",
       "      <th>High</th>\n",
       "      <th>Low</th>\n",
       "      <th>Close</th>\n",
       "      <th>Adj Close</th>\n",
       "      <th>Volume</th>\n",
       "    </tr>\n",
       "    <tr>\n",
       "      <th>Date</th>\n",
       "      <th></th>\n",
       "      <th></th>\n",
       "      <th></th>\n",
       "      <th></th>\n",
       "      <th></th>\n",
       "      <th></th>\n",
       "    </tr>\n",
       "  </thead>\n",
       "  <tbody>\n",
       "    <tr>\n",
       "      <th>2015-06-01</th>\n",
       "      <td>31.600000</td>\n",
       "      <td>32.500000</td>\n",
       "      <td>31.600000</td>\n",
       "      <td>32.150002</td>\n",
       "      <td>28.012907</td>\n",
       "      <td>54705</td>\n",
       "    </tr>\n",
       "    <tr>\n",
       "      <th>2015-06-02</th>\n",
       "      <td>32.150002</td>\n",
       "      <td>32.150002</td>\n",
       "      <td>30.750000</td>\n",
       "      <td>30.799999</td>\n",
       "      <td>26.836620</td>\n",
       "      <td>119029</td>\n",
       "    </tr>\n",
       "    <tr>\n",
       "      <th>2015-06-03</th>\n",
       "      <td>30.750000</td>\n",
       "      <td>31.500000</td>\n",
       "      <td>29.299999</td>\n",
       "      <td>30.750000</td>\n",
       "      <td>26.793062</td>\n",
       "      <td>144989</td>\n",
       "    </tr>\n",
       "    <tr>\n",
       "      <th>2015-06-04</th>\n",
       "      <td>29.650000</td>\n",
       "      <td>30.549999</td>\n",
       "      <td>29.400000</td>\n",
       "      <td>29.600000</td>\n",
       "      <td>25.791040</td>\n",
       "      <td>257929</td>\n",
       "    </tr>\n",
       "    <tr>\n",
       "      <th>2015-06-05</th>\n",
       "      <td>29.600000</td>\n",
       "      <td>29.799999</td>\n",
       "      <td>28.650000</td>\n",
       "      <td>28.850000</td>\n",
       "      <td>25.137552</td>\n",
       "      <td>160281</td>\n",
       "    </tr>\n",
       "  </tbody>\n",
       "</table>\n",
       "</div>"
      ],
      "text/plain": [
       "                 Open       High        Low      Close  Adj Close  Volume\n",
       "Date                                                                     \n",
       "2015-06-01  31.600000  32.500000  31.600000  32.150002  28.012907   54705\n",
       "2015-06-02  32.150002  32.150002  30.750000  30.799999  26.836620  119029\n",
       "2015-06-03  30.750000  31.500000  29.299999  30.750000  26.793062  144989\n",
       "2015-06-04  29.650000  30.549999  29.400000  29.600000  25.791040  257929\n",
       "2015-06-05  29.600000  29.799999  28.650000  28.850000  25.137552  160281"
      ]
     },
     "execution_count": 133,
     "metadata": {},
     "output_type": "execute_result"
    },
    {
     "data": {
      "text/plain": [
       "pandas._libs.tslibs.timestamps.Timestamp"
      ]
     },
     "execution_count": 133,
     "metadata": {},
     "output_type": "execute_result"
    }
   ],
   "source": [
    "def date_parser(x):\n",
    "    return dte.strptime(x,\"%Y-%m-%d\")\n",
    "df=pd.read_csv(\"MANAPPURAM.BO (1).csv\",parse_dates=[0],date_parser=date_parser)\n",
    "# df.Date=pd.to_datetime(df.Date)\n",
    "# df.index=df.Date\n",
    "\n",
    "df=df.set_index(\"Date\")\n",
    "df.head()\n",
    "type(df.index[0])"
   ]
  },
  {
   "cell_type": "code",
   "execution_count": 134,
   "metadata": {
    "ExecuteTime": {
     "end_time": "2019-06-01T08:32:54.091469Z",
     "start_time": "2019-06-01T08:32:54.078715Z"
    }
   },
   "outputs": [
    {
     "data": {
      "text/plain": [
       "Date\n",
       "2015-06-01     32.150002\n",
       "2015-06-02     30.799999\n",
       "2015-06-03     30.750000\n",
       "2015-06-04     29.600000\n",
       "2015-06-05     28.850000\n",
       "2015-06-08     27.299999\n",
       "2015-06-09     28.150000\n",
       "2015-06-10     27.750000\n",
       "2015-06-11     27.200001\n",
       "2015-06-12     27.950001\n",
       "2015-06-15     28.799999\n",
       "2015-06-16     28.000000\n",
       "2015-06-17     28.150000\n",
       "2015-06-18     29.450001\n",
       "2015-06-19     28.400000\n",
       "2015-06-22     29.500000\n",
       "2015-06-23     28.799999\n",
       "2015-06-24     28.549999\n",
       "2015-06-25     27.850000\n",
       "2015-06-26     27.750000\n",
       "2015-06-29     27.850000\n",
       "2015-06-30     28.100000\n",
       "2015-07-01     28.150000\n",
       "2015-07-02     27.750000\n",
       "2015-07-03     27.950001\n",
       "2015-07-06     28.250000\n",
       "2015-07-07     28.350000\n",
       "2015-07-08     27.950001\n",
       "2015-07-09     27.900000\n",
       "2015-07-10     27.549999\n",
       "                 ...    \n",
       "2019-04-16    126.050003\n",
       "2019-04-18    124.449997\n",
       "2019-04-22    120.550003\n",
       "2019-04-23    118.199997\n",
       "2019-04-24    119.250000\n",
       "2019-04-25    119.449997\n",
       "2019-04-26    119.400002\n",
       "2019-04-30    117.900002\n",
       "2019-05-02    117.300003\n",
       "2019-05-03    117.750000\n",
       "2019-05-06    117.300003\n",
       "2019-05-07    116.000000\n",
       "2019-05-08    114.949997\n",
       "2019-05-09    113.250000\n",
       "2019-05-10    116.599998\n",
       "2019-05-13    112.750000\n",
       "2019-05-14    120.800003\n",
       "2019-05-15    120.449997\n",
       "2019-05-16    121.300003\n",
       "2019-05-17    122.500000\n",
       "2019-05-20    125.349998\n",
       "2019-05-21    125.949997\n",
       "2019-05-22    127.250000\n",
       "2019-05-23    127.900002\n",
       "2019-05-24    138.199997\n",
       "2019-05-27    135.350006\n",
       "2019-05-28    132.750000\n",
       "2019-05-29    131.300003\n",
       "2019-05-30    136.000000\n",
       "2019-05-31    134.699997\n",
       "Name: Close, Length: 987, dtype: float64"
      ]
     },
     "execution_count": 134,
     "metadata": {},
     "output_type": "execute_result"
    }
   ],
   "source": [
    "data=df.Close\n",
    "data\n",
    "train_df=df[:int(data.index.size/2)]\n",
    "test_df=df[int(data.index.size/2):]\n",
    "# train_df.info()"
   ]
  },
  {
   "cell_type": "code",
   "execution_count": 100,
   "metadata": {
    "ExecuteTime": {
     "end_time": "2019-06-01T08:10:01.227783Z",
     "start_time": "2019-06-01T08:09:59.508138Z"
    }
   },
   "outputs": [
    {
     "name": "stderr",
     "output_type": "stream",
     "text": [
      "/usr/local/lib/python3.6/dist-packages/statsmodels/tsa/base/tsa_model.py:225: ValueWarning: A date index has been provided, but it has no associated frequency information and so will be ignored when e.g. forecasting.\n",
      "  ' ignored when e.g. forecasting.', ValueWarning)\n"
     ]
    }
   ],
   "source": [
    "# model=LinearRegression()\n",
    "# model.fit(list(train_df.index)\n",
    "import numpy as np\n",
    "from statsmodels.tsa.arima_model import ARIMA\n",
    "model=ARIMA(np.log(train_df.Close), order = (1,0,1))\n",
    "model_fit=model.fit()"
   ]
  },
  {
   "cell_type": "markdown",
   "metadata": {},
   "source": [
    "import pandas as pd\n",
    "import numpy as np\n",
    "from statsmodels.tsa.arima_model import ARIMA\n",
    "import matplotlib.pylab as plt\n",
    "\n",
    "data_1 = pd.read_csv('AirPassengers.csv')\n",
    "avg= data_1['#Passengers']\n",
    "avg=list(avg)\n",
    "res = pd.Series(avg, index=pd.to_datetime(data_1['Month'],format='%Y-%m'))\n",
    "\n",
    "ts=np.log(res)\n",
    "ts_diff = ts - ts.shift()\n",
    "ts_diff.dropna(inplace=True)\n",
    "r = ARIMA(ts,(2,1,2))\n",
    "r = r.fit(disp=-1)\n",
    "\n",
    "pred = r.predict(start='1961-01',end='1970-01')\n",
    "dates = pd.date_range('1961-01','1970-01',freq='M')\n",
    "\n",
    "predictions_ARIMA_diff = pd.Series(pred, copy=True)\n",
    "predictions_ARIMA_diff_cumsum = predictions_ARIMA_diff.cumsum()\n",
    "predictions_ARIMA_log = pd.Series(ts.ix[0])\n",
    "predictions_ARIMA_log = predictions_ARIMA_log.add(predictions_ARIMA_diff_cumsum,fill_value=0)\n",
    "predictions_ARIMA = np.exp(predictions_ARIMA_log)\n",
    "plt.plot(res)\n",
    "plt.plot(predictions_ARIMA)\n",
    "\n",
    "plt.show()\n",
    "\n",
    "print predictions_ARIMA.head()\n",
    "print ts.head()"
   ]
  },
  {
   "cell_type": "code",
   "execution_count": 82,
   "metadata": {
    "ExecuteTime": {
     "end_time": "2019-05-29T20:00:08.205813Z",
     "start_time": "2019-05-29T20:00:07.873646Z"
    }
   },
   "outputs": [
    {
     "data": {
      "text/plain": [
       "[<matplotlib.lines.Line2D at 0x7f26e7f7acf8>]"
      ]
     },
     "execution_count": 82,
     "metadata": {},
     "output_type": "execute_result"
    },
    {
     "ename": "ValueError",
     "evalue": "could not broadcast input array from shape (2,2) into shape (2)",
     "output_type": "error",
     "traceback": [
      "\u001b[0;31m---------------------------------------------------------------------------\u001b[0m",
      "\u001b[0;31mValueError\u001b[0m                                Traceback (most recent call last)",
      "\u001b[0;32m<ipython-input-82-2b2894ecba70>\u001b[0m in \u001b[0;36m<module>\u001b[0;34m\u001b[0m\n\u001b[1;32m      2\u001b[0m \u001b[0mARIMA_forecast\u001b[0m\u001b[0;34m=\u001b[0m\u001b[0mmodel_fit\u001b[0m\u001b[0;34m.\u001b[0m\u001b[0mforecast\u001b[0m\u001b[0;34m(\u001b[0m\u001b[0;36m2\u001b[0m\u001b[0;34m)\u001b[0m\u001b[0;34m\u001b[0m\u001b[0;34m\u001b[0m\u001b[0m\n\u001b[1;32m      3\u001b[0m \u001b[0mplt\u001b[0m\u001b[0;34m.\u001b[0m\u001b[0mplot\u001b[0m\u001b[0;34m(\u001b[0m\u001b[0mnp\u001b[0m\u001b[0;34m.\u001b[0m\u001b[0mexp\u001b[0m\u001b[0;34m(\u001b[0m\u001b[0mnp\u001b[0m\u001b[0;34m.\u001b[0m\u001b[0mlog\u001b[0m\u001b[0;34m(\u001b[0m\u001b[0mtrain_df\u001b[0m\u001b[0;34m.\u001b[0m\u001b[0mClose\u001b[0m\u001b[0;34m)\u001b[0m\u001b[0;34m)\u001b[0m\u001b[0;34m,\u001b[0m \u001b[0mlabel\u001b[0m \u001b[0;34m=\u001b[0m \u001b[0;34m\"Original\"\u001b[0m\u001b[0;34m)\u001b[0m\u001b[0;34m\u001b[0m\u001b[0;34m\u001b[0m\u001b[0m\n\u001b[0;32m----> 4\u001b[0;31m \u001b[0mplt\u001b[0m\u001b[0;34m.\u001b[0m\u001b[0mplot\u001b[0m\u001b[0;34m(\u001b[0m\u001b[0mnp\u001b[0m\u001b[0;34m.\u001b[0m\u001b[0mexp\u001b[0m\u001b[0;34m(\u001b[0m\u001b[0mARIMA_forecast\u001b[0m\u001b[0;34m)\u001b[0m\u001b[0;34m,\u001b[0m \u001b[0mlabel\u001b[0m \u001b[0;34m=\u001b[0m \u001b[0;34m'Forecast'\u001b[0m\u001b[0;34m)\u001b[0m\u001b[0;34m\u001b[0m\u001b[0;34m\u001b[0m\u001b[0m\n\u001b[0m",
      "\u001b[0;31mValueError\u001b[0m: could not broadcast input array from shape (2,2) into shape (2)"
     ]
    },
    {
     "data": {
      "image/png": "[encoded data removed]",
      "text/plain": [
       "<Figure size 432x288 with 1 Axes>"
      ]
     },
     "metadata": {
      "needs_background": "light"
     },
     "output_type": "display_data"
    }
   ],
   "source": [
    "# model_fit.forecast(start=\"2019-05-01\",end=\"2019-05-10\")\n",
    "ARIMA_forecast=model_fit.forecast(2)[0]\n",
    "plt.plot(np.exp(np.log(train_df.Close)), label = \"Original\")\n",
    "plt.plot(np.exp(ARIMA_forecast), label = 'Forecast')\n"
   ]
  },
  {
   "cell_type": "code",
   "execution_count": 70,
   "metadata": {
    "ExecuteTime": {
     "end_time": "2019-05-29T19:54:36.280017Z",
     "start_time": "2019-05-29T19:54:36.253431Z"
    }
   },
   "outputs": [
    {
     "ename": "TypeError",
     "evalue": "'module' object is not callable",
     "output_type": "error",
     "traceback": [
      "\u001b[0;31m---------------------------------------------------------------------------\u001b[0m",
      "\u001b[0;31mTypeError\u001b[0m                                 Traceback (most recent call last)",
      "\u001b[0;32m<ipython-input-70-6abf7b5a5aac>\u001b[0m in \u001b[0;36m<module>\u001b[0;34m\u001b[0m\n\u001b[0;32m----> 1\u001b[0;31m \u001b[0mplt\u001b[0m\u001b[0;34m(\u001b[0m\u001b[0mmodel_fit\u001b[0m\u001b[0;34m.\u001b[0m\u001b[0mforecast\u001b[0m\u001b[0;34m(\u001b[0m\u001b[0;36m10\u001b[0m\u001b[0;34m)\u001b[0m\u001b[0;34m[\u001b[0m\u001b[0;36m0\u001b[0m\u001b[0;34m]\u001b[0m\u001b[0;34m)\u001b[0m\u001b[0;34m\u001b[0m\u001b[0;34m\u001b[0m\u001b[0m\n\u001b[0m",
      "\u001b[0;31mTypeError\u001b[0m: 'module' object is not callable"
     ]
    }
   ],
   "source": [
    "plt(model_fit.forecast(10)[0])"
   ]
  },
  {
   "cell_type": "code",
   "execution_count": 146,
   "metadata": {
    "ExecuteTime": {
     "end_time": "2019-06-01T08:41:33.513016Z",
     "start_time": "2019-06-01T08:41:33.056532Z"
    }
   },
   "outputs": [
    {
     "data": {
      "text/plain": [
       "[<matplotlib.lines.Line2D at 0x7f651180acf8>]"
      ]
     },
     "execution_count": 146,
     "metadata": {},
     "output_type": "execute_result"
    },
    {
     "data": {
      "text/plain": [
       "[<matplotlib.lines.Line2D at 0x7f6511813278>]"
      ]
     },
     "execution_count": 146,
     "metadata": {},
     "output_type": "execute_result"
    },
    {
     "data": {
      "text/plain": [
       "<matplotlib.legend.Legend at 0x7f651582af60>"
      ]
     },
     "execution_count": 146,
     "metadata": {},
     "output_type": "execute_result"
    },
    {
     "data": {
      "image/png": "[encoded data removed]",
      "text/plain": [
       "<Figure size 432x288 with 1 Axes>"
      ]
     },
     "metadata": {
      "needs_background": "light"
     },
     "output_type": "display_data"
    }
   ],
   "source": [
    "linear=LinearRegression()\n",
    "index_arr=np.array(df.index)\n",
    "index_arr.shape=len(index_arr),1\n",
    "def func(x):\n",
    "    li=[]\n",
    "    for val in x:\n",
    "        val_str=str(val).split(\"T\")[0].replace(\"]\",\"\").replace(\"[\",\"\").replace(\"'\",\"\")\n",
    "#         print(val_str)\n",
    "        timestamp=int(time.mktime(time.strptime(str(val_str),\"%Y-%m-%d\")))\n",
    "#         print(timestamp)\n",
    "        li.append(timestamp)\n",
    "    return li\n",
    "li=func(index_arr)\n",
    "li_np=np.array(li)\n",
    "\n",
    "data_arr=np.array(data)\n",
    "li_np.shape=len(li_np),1\n",
    "data_arr.shape=len(data_arr),1\n",
    "# print(data_arr)\n",
    "result=linear.fit(li_np,data_arr)\n",
    "# print(result.score(li_np,data_arr))\n",
    "# import time \n",
    "\n",
    "# date_to_predict=time.strptime(\"2019-04-30\",\"%Y-%m-%d\")\n",
    "# converted_array=int(time.mktime(date_to_predict))\n",
    "predicted_result=result.predict(li_np)\n",
    "# plt.plot()\n",
    "predicted_result_plt=[val[0] for val in predicted_result]\n",
    "data_arr_plt=[val[0] for val in data_arr]\n",
    "plt.plot(predicted_result_plt,Label=\"Prediction\")\n",
    "plt.plot(data_arr_plt,Label=\"Actual\")\n",
    "plt.legend(\"Actual\")\n",
    "plt.show()"
   ]
  }
 ],
 "metadata": {
  "kernelspec": {
   "display_name": "Python 3",
   "language": "python",
   "name": "python3"
  },
  "language_info": {
   "codemirror_mode": {
    "name": "ipython",
    "version": 3
   },
   "file_extension": ".py",
   "mimetype": "text/x-python",
   "name": "python",
   "nbconvert_exporter": "python",
   "pygments_lexer": "ipython3",
   "version": "3.6.7"
  }
 },
 "nbformat": 4,
 "nbformat_minor": 2
}
